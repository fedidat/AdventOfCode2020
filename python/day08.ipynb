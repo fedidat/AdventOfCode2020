{
 "cells": [
  {
   "cell_type": "markdown",
   "metadata": {},
   "source": [
    "[current dir](.)"
   ]
  },
  {
   "cell_type": "code",
   "execution_count": 1,
   "metadata": {},
   "outputs": [
    {
     "data": {
      "text/plain": [
       "[['acc', '-7'], ['acc', '+2'], ['acc', '+20'], ['acc', '+14'], ['jmp', '+191']]"
      ]
     },
     "execution_count": 1,
     "metadata": {},
     "output_type": "execute_result"
    }
   ],
   "source": [
    "# filename = 'day08-sample.txt'\n",
    "filename = 'day08.txt'\n",
    "with open(filename) as file:\n",
    "    inputstr = file.read()\n",
    "    \n",
    "input = [line.split() for line in inputstr.splitlines()]\n",
    "input[:5]"
   ]
  },
  {
   "cell_type": "code",
   "execution_count": 2,
   "metadata": {},
   "outputs": [],
   "source": [
    "class Inst:\n",
    "    def __init__(self, opcode, val):\n",
    "        self.opcode = opcode\n",
    "        self.val = int(val)\n",
    "    def __str__(self):\n",
    "        return \"{%s, %d}\" % (self.opcode, self.val)\n",
    "    \n",
    "class System:\n",
    "    def __init__(self, code):\n",
    "        self.ptr = self.acc = 0\n",
    "        self.code = code\n",
    "        self.inst = {\n",
    "            \"nop\": lambda ptr, acc, _: (ptr+1, acc),\n",
    "            \"acc\": lambda ptr, acc, val: (ptr+1, acc+val),\n",
    "            \"jmp\": lambda ptr, acc, val: (ptr+val, acc)}\n",
    "        self.reached = []\n",
    "        self.limit = 10000\n",
    "        \n",
    "    def run(self):\n",
    "        for i in range(self.limit):\n",
    "            self.runInst()\n",
    "            if(self.ptr == len(self.code)):\n",
    "                return \"exited normally, acc is \" + str(self.acc)\n",
    "            if(self.ptr in self.reached):\n",
    "                return \"cycle after \" + str(i) + \", acc is \" + str(self.acc)\n",
    "            self.reached.append((self.ptr))\n",
    "        raise \"could not finish\"\n",
    "        \n",
    "    def runInst(self):\n",
    "        inst = self.code[self.ptr]\n",
    "        (self.ptr, self.acc) = self.inst[inst.opcode](self.ptr, self.acc, inst.val)"
   ]
  },
  {
   "cell_type": "markdown",
   "metadata": {},
   "source": [
    "Part 1"
   ]
  },
  {
   "cell_type": "code",
   "execution_count": 3,
   "metadata": {},
   "outputs": [
    {
     "name": "stdout",
     "output_type": "stream",
     "text": [
      "cycle after 204, acc is 1594\n"
     ]
    }
   ],
   "source": [
    "def part1():\n",
    "    code = [Inst(a, b) for (a, b) in input]\n",
    "    system = System(code)\n",
    "    return system.run()\n",
    "\n",
    "print(part1())"
   ]
  },
  {
   "cell_type": "markdown",
   "metadata": {},
   "source": [
    "Part 2"
   ]
  },
  {
   "cell_type": "code",
   "execution_count": 4,
   "metadata": {},
   "outputs": [
    {
     "name": "stdout",
     "output_type": "stream",
     "text": [
      "exited normally, acc is 758\n"
     ]
    }
   ],
   "source": [
    "from copy import deepcopy\n",
    "\n",
    "def part2():\n",
    "    code = [Inst(a, b) for (a, b) in input]\n",
    "    switches = {\n",
    "        \"nop\": \"jmp\",\n",
    "        \"jmp\": \"nop\"}\n",
    "    for i in range(len(code)):\n",
    "        if code[i].opcode in switches:\n",
    "            codecopy = deepcopy(code)\n",
    "            codecopy[i].opcode = switches[code[i].opcode]\n",
    "            system = System(codecopy)\n",
    "            status = system.run()\n",
    "            if status.startswith(\"exit\"):\n",
    "                return status\n",
    "    raise \"could not find non-cycle\"\n",
    "\n",
    "print(part2())"
   ]
  }
 ],
 "metadata": {
  "kernelspec": {
   "display_name": "Python 3",
   "language": "python",
   "name": "python3"
  },
  "language_info": {
   "codemirror_mode": {
    "name": "ipython",
    "version": 3
   },
   "file_extension": ".py",
   "mimetype": "text/x-python",
   "name": "python",
   "nbconvert_exporter": "python",
   "pygments_lexer": "ipython3",
   "version": "3.8.5"
  }
 },
 "nbformat": 4,
 "nbformat_minor": 4
}
